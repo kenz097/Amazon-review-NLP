{
  "cells": [
    {
      "cell_type": "markdown",
      "metadata": {
        "id": "1BfbsAOVqCrM"
      },
      "source": [
        ""
      ]
    },
    {
      "cell_type": "code",
      "execution_count": null,
      "metadata": {
        "colab": {
          "base_uri": "https://localhost:8080/"
        },
        "id": "AbeUaL9Sgh8c",
        "outputId": "7ab9b260-e453-43f7-8607-483b45da0f0f"
      },
      "outputs": [
        {
          "output_type": "stream",
          "name": "stdout",
          "text": [
            "Mounted at /content/drive\n"
          ]
        }
      ],
      "source": [
        "from google.colab import drive\n",
        "drive.mount('/content/drive')"
      ]
    },
    {
      "cell_type": "markdown",
      "metadata": {
        "id": "rD0DSbh4UYy3"
      },
      "source": [
        "# **Librerie**"
      ]
    },
    {
      "cell_type": "code",
      "execution_count": null,
      "metadata": {
        "id": "E2uzEI0uRQRV"
      },
      "outputs": [],
      "source": [
        "#data from html page\n",
        "import requests\n",
        "from bs4 import BeautifulSoup\n",
        "# Data manipulation\n",
        "import numpy as np\n",
        "import pandas as pd\n",
        "import csv \n",
        "import re\n",
        "import time\n",
        "import gensim\n",
        "from gensim.utils import simple_preprocess\n"
      ]
    },
    {
      "cell_type": "markdown",
      "source": [
        "# **Estrai link dal file del bot**"
      ],
      "metadata": {
        "id": "SUFxjH0gf_fC"
      }
    },
    {
      "cell_type": "code",
      "source": [
        "link=[]\n",
        "with open(\"/content/drive/Shareddrives/Intelligenza Artificiale/Progetto/productsBot.txt\", \"r\") as f:\n",
        "  lines = f.readlines()\n",
        "  for line in lines:\n",
        "    line=str(line)\n",
        "    value= line.split('[')[1].split(']')[0]\n",
        "    v=value.replace(\"'\", \"\")\n",
        "    link.append(v)   \n",
        "#eliminiamo i duplicati   \n",
        "mylist=np.unique(link).tolist()\n",
        "with open(\"/content/drive/Shareddrives/Intelligenza Artificiale/Progetto/links.txt\", \"w\") as f1:\n",
        "    for lista in mylist:\n",
        "      f1.write(lista)\n",
        "      f1.write(\"\\n\")"
      ],
      "metadata": {
        "id": "6kqRauFlJUjC"
      },
      "execution_count": null,
      "outputs": []
    },
    {
      "cell_type": "markdown",
      "metadata": {
        "id": "MMRH9G9ZCRhF"
      },
      "source": [
        "# **Funzione per accedere al DOM**\n",
        "\n"
      ]
    },
    {
      "cell_type": "code",
      "execution_count": null,
      "metadata": {
        "id": "J_eGIJr-DemX"
      },
      "outputs": [],
      "source": [
        "HEADERS = ({'User-Agent':\n",
        "\t\t\t'Mozilla/5.0 (Windows NT 10.0; Win64; x64) \\\n",
        "\t\t\tAppleWebKit/537.36 (KHTML, like Gecko) \\\n",
        "\t\t\tChrome/90.0.4430.212 Safari/537.36',\n",
        "\t\t\t'Accept-Language': 'en-US, en;q=0.5'})\n",
        "\n",
        "def getdata(url):\n",
        "\tr = requests.get(url, headers=HEADERS)\n",
        "\treturn r\n",
        "\n",
        "\n",
        "def html_code(url):\n",
        "\thtmldata = getdata(url)\n",
        "\tsoup = BeautifulSoup(htmldata.content, 'html.parser')\n",
        "\treturn (soup)"
      ]
    },
    {
      "cell_type": "markdown",
      "metadata": {
        "id": "mWtmr_Ya4ApA"
      },
      "source": [
        "# **Lista top rewiewers amazon - NON AVVIARE**"
      ]
    },
    {
      "cell_type": "code",
      "execution_count": null,
      "metadata": {
        "colab": {
          "background_save": true
        },
        "id": "_Au5gjLPiw2W"
      },
      "outputs": [],
      "source": [
        "with open('/content/drive/Shareddrives/Intelligenza Artificiale/Progetto/top-reviewer.csv', 'w', newline='') as file:\n",
        "    writer = csv.writer(file)\n",
        "    writer.writerow([\"Utente\"])\n",
        "\n",
        "for x in range (1,50000):\n",
        "  url = \"https://www.amazon.it/hz/leaderboard/top-reviewers/ref=cm_cr_tr_link_2?page=\"+str(x)\n",
        "  soup = html_code(url)\n",
        "  for item in soup.select('#pha-lb-page b'):\n",
        "    with open('/content/drive/Shareddrives/Intelligenza Artificiale/Progetto/top-reviewer.csv', 'a', newline='') as file:\n",
        "      print(\"x\")\n",
        "      writer = csv.writer(file)\n",
        "      writer.writerow([item.text])"
      ]
    },
    {
      "cell_type": "markdown",
      "metadata": {
        "id": "hwoG2I56PsYA"
      },
      "source": [
        "# **Recupero informazioni delle recensioni**\n",
        "\n"
      ]
    },
    {
      "cell_type": "code",
      "execution_count": null,
      "metadata": {
        "id": "d-R_ZYm4QToU"
      },
      "outputs": [],
      "source": [
        "def product_data(soup):\n",
        "  \n",
        "  name_product = []\n",
        "  for item in soup.select(\"h1.a-size-large.a-text-ellipsis a.a-link-normal\"):\n",
        "    name_product.append(item[\"href\"])  \n",
        "  \n",
        "  avarege = []\n",
        "  for item in soup.select(\"div.AverageCustomerReviews span.a-color-base\"):\n",
        "    avarege.append(item.text)  \n",
        "\n",
        "    \n",
        "  pagine_review = []\n",
        "  for r in soup.select('div.a-row a.a-size-base.a-link-normal.review-title.a-color-base.review-title-content.a-text-bold'):\n",
        "    pagine_review.append(\"https://www.amazon.it\"+r[\"href\"])\n",
        "\n",
        "  list_titolo_review = []\n",
        "  list_data_review = []\n",
        "  list_voti = []\n",
        "  list_rate = []\n",
        "  list_comment = []\n",
        "  list_utenti = []  \n",
        "  list_verificato = []\n",
        "  for x in range (0,len(pagine_review)):\n",
        "    soup = html_code(pagine_review[x])\n",
        "    \n",
        "    for r in soup.select('a.a-size-base span'):\n",
        "      list_titolo_review.append(r.text)\n",
        "\n",
        "    for r in soup.select('span.review-date'):\n",
        "      list_data_review.append(r.text)\n",
        "\n",
        "    for r in soup.select('span.cr-vote-text'):\n",
        "        list_voti.append(r.text)\n",
        "    if len(list_voti) == x:\n",
        "        list_voti.append(\"0\")\n",
        "  \n",
        "    for r in soup.select('span.a-icon-alt'):\n",
        "      list_rate.append(r.text)\n",
        "      break\n",
        "\n",
        "    for r in soup.select('span.review-text span'):\n",
        "      if r.text != \" \" and r.text != \" Impossibile caricare il contenuto multimediale. \":\n",
        "        list_comment.append(r.text)\n",
        "    if len(list_comment) == x:\n",
        "      list_comment.append(\"\")\n",
        "\n",
        "    for r in soup.select('a.a-profile'):\n",
        "        list_utenti.append(r.text)\n",
        "\n",
        "    for r in soup.select('span.a-profile-verified-badge'):\n",
        "      list_verificato.append(\"Verificato\")\n",
        "    if len(list_verificato) == x:\n",
        "        count = 0\n",
        "        with open('/content/drive/Shareddrives/Intelligenza Artificiale/Progetto/top-reviewer.csv') as csv_file:\n",
        "          csv_reader = csv.reader(csv_file, delimiter=',')\n",
        "          for riga in csv_reader:\n",
        "            count = count + 1\n",
        "            if riga[0] == list_utenti[x]:\n",
        "              list_verificato.append(count)\n",
        "              break\n",
        "    if len(list_verificato) == x:\n",
        "      list_verificato.append(\"Oltre i 250000\")\n",
        "  \n",
        "  #print(len(list_titolo_review))\n",
        "  #print(len(list_data_review))\n",
        "  #print(len(list_voti))\n",
        "  #print(len(list_rate))\n",
        "  #print(len(list_comment))\n",
        "  #print(len(list_utenti))\n",
        "  #print(len(list_verificato))\n",
        "\n",
        "  with open('/content/drive/Shareddrives/Intelligenza Artificiale/Progetto/review.csv', 'a', newline='') as file:\n",
        "    writer = csv.writer(file)\n",
        "    for x in range(0,len(list_utenti)):\n",
        "      writer.writerow([list_utenti[x], list_verificato[x], name_product[0], list_titolo_review[x], list_comment[x], list_rate[x], avarege[0], list_data_review[x], list_voti[x]])\n",
        "           \n",
        "\n",
        "with open('/content/drive/Shareddrives/Intelligenza Artificiale/Progetto/review.csv', 'w', newline='') as file:\n",
        "    writer = csv.writer(file)\n",
        "    writer.writerow([\"Utente\", \"Posizione_utente\", \"Prodotto\", \"Titolo\", \"Contenuto\" ,\"Rate\", \"Media\", \"Data\", \"Voti\"])\n",
        "\n",
        "file = open(\"/content/drive/Shareddrives/Intelligenza Artificiale/Progetto/links.txt\", \"r\")\n",
        "for line in file: \n",
        "  #Recuperiamo il numero di recensioni totali\n",
        "  url = 'https://www.amazon.it/product-reviews' + line.split(\"/dp\")[1]\n",
        "  soup = html_code(url)\n",
        "  number = 0\n",
        "  data_str = \"\"\n",
        "  span_content = []\n",
        "  for item in soup.find_all(\"span\", clas_=\"\"):\n",
        "    data_str = data_str + item.get_text()\n",
        "    span_content.append(data_str)\n",
        "    data_str = \"\"\n",
        "  for x in range (0,len(span_content)):\n",
        "    if \"recensioni globali\" in span_content[x]:\n",
        "      n = span_content[x].split(\"| \")[1].split(\" \")[0]\n",
        "      n = n.replace('.', '')\n",
        "      if int(n)%10 == 0:\n",
        "        number = int(int(n)/10)\n",
        "      else:\n",
        "        number = int(int(n)/10) + 1\n",
        "  #Recuperiamo le recensioni con la funzione cus_data\n",
        "  for x in range (1,number+1):\n",
        "    url = 'https://www.amazon.it/product-reviews' + line.split(\"/dp\")[1] + '&pageNumber=' + str(x) \n",
        "    print(url)\n",
        "    soup = html_code(url)\n",
        "    product_data(soup)"
      ]
    },
    {
      "cell_type": "code",
      "source": [
        "def product_data_oracolo():\n",
        "  \n",
        "  pagine_review = []\n",
        "  file = open(\"/content/drive/Shareddrives/Intelligenza Artificiale/Progetto/Oracolo.txt\", \"r\")\n",
        "  for line in file: \n",
        "    pagine_review.append(line)\n",
        "\n",
        "  name_product = []\n",
        "  avarege = []\n",
        "  list_titolo_review = []\n",
        "  list_data_review = []\n",
        "  list_voti = []\n",
        "  list_rate = []\n",
        "  list_comment = []\n",
        "  list_utenti = []  \n",
        "  list_verificato = []\n",
        "  for x in range (0,len(pagine_review)):\n",
        "    soup = html_code(pagine_review[x])\n",
        "\n",
        "    for item in soup.select(\"div.a-row.a-spacing-top-mini.a-text-ellipsis a.a-link-normal\"):\n",
        "      name_product.append(item[\"href\"])  \n",
        "  \n",
        "    for item in soup.select(\"div.a-row span.a-size-medium.a-color-base\"):\n",
        "      avarege.append(item.text)  \n",
        "\n",
        "    for r in soup.select('a.a-size-base span'):\n",
        "      list_titolo_review.append(r.text)\n",
        "\n",
        "    for r in soup.select('span.review-date'):\n",
        "      list_data_review.append(r.text)\n",
        "\n",
        "    for r in soup.select('span.cr-vote-text'):\n",
        "        list_voti.append(r.text)\n",
        "    if len(list_voti) == x:\n",
        "        list_voti.append(\"0\")\n",
        "  \n",
        "    for r in soup.select('span.a-icon-alt'):\n",
        "      list_rate.append(r.text)\n",
        "      break\n",
        "\n",
        "    for r in soup.select('span.review-text span'):\n",
        "      if r.text != \" \" and r.text != \" Impossibile caricare il contenuto multimediale. \":\n",
        "        list_comment.append(r.text)\n",
        "    if len(list_comment) == x:\n",
        "      list_comment.append(\"\")\n",
        "    print(pagine_review[x],list_comment[x])\n",
        "\n",
        "    for r in soup.select('a.a-profile'):\n",
        "        list_utenti.append(r.text)\n",
        "    print(len(list_utenti))\n",
        "    for r in soup.select('span.a-profile-verified-badge'):\n",
        "      list_verificato.append(\"Verificato\")\n",
        "    if len(list_verificato) == x:\n",
        "        count = 0\n",
        "        with open('/content/drive/Shareddrives/Intelligenza Artificiale/Progetto/top-reviewer.csv') as csv_file:\n",
        "          csv_reader = csv.reader(csv_file, delimiter=',')\n",
        "          for riga in csv_reader:\n",
        "            count = count + 1\n",
        "            if riga[0] == list_utenti[x]:\n",
        "              list_verificato.append(count)\n",
        "              break\n",
        "    if len(list_verificato) == x:\n",
        "      list_verificato.append(\"Oltre i 250000\")\n",
        "\n",
        "\n",
        "  with open('/content/drive/Shareddrives/Intelligenza Artificiale/Progetto/reviewOracolo.csv', 'a', newline='') as file:\n",
        "    writer = csv.writer(file)\n",
        "    for x in range(0,len(list_utenti)):\n",
        "      if x < 36:\n",
        "        writer.writerow([list_utenti[x], list_verificato[x], name_product[x], list_titolo_review[x], list_comment[x], list_rate[x], avarege[x], list_data_review[x], list_voti[x],0])\n",
        "      else:\n",
        "        writer.writerow([list_utenti[x], list_verificato[x], name_product[x], list_titolo_review[x], list_comment[x], list_rate[x], avarege[x], list_data_review[x], list_voti[x],1])\n",
        "      \n",
        "\n",
        "with open('/content/drive/Shareddrives/Intelligenza Artificiale/Progetto/reviewOracolo.csv', 'w', newline='') as file:\n",
        "    writer = csv.writer(file)\n",
        "    writer.writerow([\"Utente\", \"Posizione_utente\", \"Prodotto\", \"Titolo\", \"Contenuto\" ,\"Rate\", \"Media\", \"Data\", \"Voti\",\"Classe_Reale\"])\n",
        "product_data_oracolo()\n"
      ],
      "metadata": {
        "id": "JJDVpaEuRqbu"
      },
      "execution_count": null,
      "outputs": []
    },
    {
      "cell_type": "markdown",
      "metadata": {
        "id": "eLmpAsqUX-Gw"
      },
      "source": [
        "#**Funzione per mettere se una recensione è fake o meno**"
      ]
    },
    {
      "cell_type": "code",
      "execution_count": null,
      "metadata": {
        "id": "ZFVGk-P2X5OX"
      },
      "outputs": [],
      "source": [
        "def checkuser(posizione, review, star, media, data, voti):\n",
        "  count=0\n",
        "  numbers = re.findall('[0-9]+', data)\n",
        "  numbers=int(numbers[1])\n",
        "  if numbers<2020:\n",
        "    return False\n",
        "  #se la lunghezza della recensione è maggiore di 50 parole aumentiamo la probabilità \n",
        "  if len(review.split())>50:\n",
        "    count+=1\n",
        "  #se non è verificato aumentiamo la probabilità  \n",
        "  if posizione!=\"Verificato\" and posizione!=\"Oltre i 250000\" and posizione<=\"50000\":\n",
        "      count+=1   \n",
        "  #se ha 5 stelle aumentiamo la probabilità\n",
        "  if star==5.0:\n",
        "    count+=1\n",
        "  #se il numero di stelle è minore di 3.5 e le stelle sono 5 \n",
        "  if 3.5>media and star==5:\n",
        "    count+=1 \n",
        "  #se il numero di utili è maggiore di 2 aumentiamo la probabilità\n",
        "  if voti<2:\n",
        "    count+=1\n",
        "  #se il conteggio finale è maggiore di 3, ovvero oltre la media, la recensione è finta  \n",
        "  if count<4: return False\n",
        "  else: return True"
      ]
    },
    {
      "cell_type": "markdown",
      "metadata": {
        "id": "-rXQEGz5Xs4Z"
      },
      "source": [
        "# **Data cleaning delle review**"
      ]
    },
    {
      "cell_type": "code",
      "source": [
        "def clean_text(text):\n",
        "  # togliamo questa stringa sottostante\n",
        "    text= re.sub(\"Impossibile caricare il contenuto multimediale.\", ' ',str(text)).strip()\n",
        "    # togliamo le emoji\n",
        "    text=text.encode('latin-1', 'ignore').decode('latin-1')\n",
        "    # togliamo i caratteri new line \n",
        "    text= re.sub(r'\\s+', ' ', text)\n",
        "    #aggiustiamo la grammatica creando un dizionario e cambiando le parole\n",
        "    correct_dict={\"x\":\" per\",\"nn\":\" non\",\"ke\":\" che\", \"e'\":\"è\",\"o'\":\"ò\",\"a'\":\"à\",\"u'\":\"ù\"}\n",
        "    #rimpiazziamo le parole\n",
        "    for key,value in correct_dict.items():\n",
        "        if key in text:\n",
        "            text=text.replace(key,value)\n",
        "    # togliamo due o più spazi\n",
        "    text= re.sub(' +', ' ',text)\n",
        "    # togliamo questa stringa sottostante\n",
        "    text= re.sub(\"nan\", ' ',text).strip()\n",
        "    # convertiamo in minuscolo per mantenere la consistenza\n",
        "    text= text.lower()\n",
        "    return text\n",
        "\n",
        "# convertiamo il testo in una lista di tokens.    \n",
        "def simple_process(text):\n",
        "    process_text = gensim.utils.simple_preprocess(text, deacc=True)\n",
        "    text = ' '.join([word for word in process_text])\n",
        "    return text"
      ],
      "metadata": {
        "id": "uVZB4KvOqlDC"
      },
      "execution_count": null,
      "outputs": []
    },
    {
      "cell_type": "code",
      "execution_count": null,
      "metadata": {
        "id": "i959gTMzXxae"
      },
      "outputs": [],
      "source": [
        "df = pd.read_csv('/content/drive/Shareddrives/Intelligenza Artificiale/Progetto/review.csv')\n",
        "header = [\"ID\", \"Utente\", \"Posizione_utente\", \"Prodotto\", \"Titolo\", \"Contenuto\", \"Rate\", \"Media\", \"Data\", \"Voti\", \"Classe\"]\n",
        "name=[]\n",
        "position=[]\n",
        "product=[]\n",
        "title=[]\n",
        "review=[]\n",
        "rate=[]\n",
        "media=[]\n",
        "data=[]\n",
        "voti=[]\n",
        "with open('/content/drive/Shareddrives/Intelligenza Artificiale/Progetto/reviewCleaned.csv', 'w') as f:\n",
        "  writer = csv.writer(f)\n",
        "  writer.writerow(header)\n",
        "  count = 0\n",
        "  #puliamo prima tutto il contenuto\n",
        "  for table in df['Contenuto']:\n",
        "    text = clean_text(table)\n",
        "    if text != \"\" and len(text)!=0:\n",
        "      review.append(text)\n",
        "\n",
        "      #collezioniamo tutto\n",
        "      name.append(df['Utente'][count]) \n",
        "      position.append(df['Posizione_utente'][count])\n",
        "      product.append(df['Prodotto'][count])\n",
        "      title.append(df['Titolo'][count]) \n",
        "      #le stelle e la media li facciamo diventare float e li inseriamo nel csv  \n",
        "      value=float(re.sub(',', '.',df['Rate'][count][0:3]))  \n",
        "      rate.append(value) \n",
        "      \n",
        "      if(\",\" in df['Media'][count][0:3]):\n",
        "        value=float(re.sub(',', '.', df['Media'][count][0:3]))  \n",
        "        media.append(value)\n",
        "      else:\n",
        "        media.append(float(df['Media'][count][0]))\n",
        "      \n",
        "      data.append(df['Data'][count])\n",
        "      #convertiamo la stringa in un intero, altrimenti prendiamo il primo carattere, ovvero il numero di persone  \n",
        "      if(df['Voti'][count] == \"Una persona l'ha trovato utile\"):\n",
        "        voti.append(1)  \n",
        "      else:\n",
        "        #cerchiamo tutti i numeri, li convertiamo in interi e li inseriamo\n",
        "        numbers = re.search('[0-9]+', df['Voti'][count])\n",
        "        voti.append(int(numbers.group()))\n",
        "      #print(review[count],name[count],position[count],media[count],product[count],title[count],rate[count],data[count],voti[count])  \n",
        "    count = count + 1\n",
        "  #inseriamo tutto nel csv, aggiungendo un id\n",
        "  \n",
        "  count = 0\n",
        "  for i in range(len(name)):\n",
        "    #checkuser ritorna se la recensione è fake o meno dando posizione, review, star, media, voti\n",
        "    if checkuser(position[i], review[i], rate[i], media[i], data[i], voti[i]):\n",
        "      full_review=i,name[i],position[i],product[i],title[i],review[i],rate[i],media[i],data[i],voti[i],1\n",
        "      count = count + 1\n",
        "      writer.writerow(full_review)\n",
        "    else:\n",
        "      full_review=i,name[i],position[i],product[i],title[i],review[i],rate[i],media[i],data[i],voti[i],0\n",
        "      writer.writerow(full_review)\n",
        "  print(\"fake: \" + str(count))\n"
      ]
    },
    {
      "cell_type": "code",
      "source": [
        "df = pd.read_csv('/content/drive/Shareddrives/Intelligenza Artificiale/Progetto/reviewOracolo.csv')\n",
        "header = [\"ID\", \"Utente\", \"Posizione_utente\", \"Prodotto\", \"Titolo\", \"Contenuto\", \"Rate\", \"Media\", \"Data\", \"Voti\", \"Classe_Reale\", \"Classe\"]\n",
        "name=[]\n",
        "position=[]\n",
        "product=[]\n",
        "title=[]\n",
        "review=[]\n",
        "rate=[]\n",
        "media=[]\n",
        "data=[]\n",
        "voti=[]\n",
        "classe_reale =[]\n",
        "with open('/content/drive/Shareddrives/Intelligenza Artificiale/Progetto/reviewOracoloCleaned.csv', 'w') as f:\n",
        "  writer = csv.writer(f)\n",
        "  writer.writerow(header)\n",
        "  count = 0\n",
        "  #puliamo prima tutto il contenuto\n",
        "  for table in df['Contenuto']:\n",
        "    text = clean_text(table)\n",
        "    if text != \"\" and len(text)!=0:\n",
        "      review.append(text)\n",
        "\n",
        "      #collezioniamo tutto\n",
        "      name.append(df['Utente'][count]) \n",
        "      position.append(df['Posizione_utente'][count])\n",
        "      product.append(df['Prodotto'][count])\n",
        "      title.append(df['Titolo'][count]) \n",
        "      #le stelle e la media li facciamo diventare float e li inseriamo nel csv  \n",
        "      value=float(re.sub(',', '.',df['Rate'][count][0:3]))  \n",
        "      rate.append(value) \n",
        "      \n",
        "      if(\",\" in df['Media'][count][0:3]):\n",
        "        value=float(re.sub(',', '.', df['Media'][count][0:3]))  \n",
        "        media.append(value)\n",
        "      else:\n",
        "        media.append(float(df['Media'][count][0]))\n",
        "      \n",
        "      data.append(df['Data'][count])\n",
        "      #convertiamo la stringa in un intero, altrimenti prendiamo il primo carattere, ovvero il numero di persone  \n",
        "      if(df['Voti'][count] == \"Una persona l'ha trovato utile\"):\n",
        "        voti.append(1)  \n",
        "      else:\n",
        "        #cerchiamo tutti i numeri, li convertiamo in interi e li inseriamo\n",
        "        numbers = re.search('[0-9]+', df['Voti'][count])\n",
        "        voti.append(int(numbers.group()))\n",
        "\n",
        "      classe_reale.append(df['Classe_Reale'][count])\n",
        "      \n",
        "      count = count + 1\n",
        "  #inseriamo tutto nel csv, aggiungendo un id\n",
        "  count = 0\n",
        "  count2 = 0\n",
        "  for i in range(len(name)):\n",
        "    #checkuser ritorna se la recensione è fake o meno dando posizione, review, star, media, voti\n",
        "    if checkuser(position[i], review[i], rate[i], media[i], data[i], voti[i]):\n",
        "      full_review=i,name[i],position[i],product[i],title[i],review[i],rate[i],media[i],data[i],voti[i], classe_reale[i], 1\n",
        "      count = count + 1\n",
        "      writer.writerow(full_review)\n",
        "    else:\n",
        "      full_review=i,name[i],position[i],product[i],title[i],review[i],rate[i],media[i],data[i],voti[i],classe_reale[i], 0\n",
        "      count2 = count2 + 1\n",
        "      writer.writerow(full_review)\n",
        "  print(\"fake: \" + str(count))\n",
        "  print(\"not fake: \" + str(count2))"
      ],
      "metadata": {
        "id": "QcQTSCFpXfpE",
        "colab": {
          "base_uri": "https://localhost:8080/"
        },
        "outputId": "2518d3ba-5f3f-4290-ccd2-5605e93e4538"
      },
      "execution_count": null,
      "outputs": [
        {
          "output_type": "stream",
          "name": "stdout",
          "text": [
            "fake: 4\n",
            "not fake: 58\n"
          ]
        }
      ]
    },
    {
      "cell_type": "code",
      "source": [
        "df = pd.read_csv('/content/drive/Shareddrives/Intelligenza Artificiale/Progetto/reviewOracoloCleaned.csv')\n",
        "header = [\"Commento\", \"Classe\"]\n",
        "\n",
        "with open('/content/drive/Shareddrives/Intelligenza Artificiale/Progetto/Test.csv', 'w') as f:\n",
        "  writer = csv.writer(f)\n",
        "  writer.writerow(header)\n",
        "  for i in range(len(df)):\n",
        "    test=df['Contenuto'][i],df['Classe_Reale'][i]\n",
        "    writer.writerow(test)"
      ],
      "metadata": {
        "id": "vpxEyQ-4MR-n"
      },
      "execution_count": null,
      "outputs": []
    },
    {
      "cell_type": "markdown",
      "metadata": {
        "id": "_69IO3dHqbob"
      },
      "source": [
        "# **Prende da una lista di link il nome del venditore e le informazioni**"
      ]
    },
    {
      "cell_type": "code",
      "execution_count": null,
      "metadata": {
        "id": "7hd39HYfVnEL"
      },
      "outputs": [],
      "source": [
        "def seller_date(site,product):  \n",
        "  #colonne per il csv venditore\n",
        "  header = ['Prodotto','Venditore','NomeAzienda','Tipo di attivita','Numero di iscrizione al registro delle imprese','Numero di partita IVA','Numero di telefono','Indirizzo Servizio clienti','Indirizzo aziendale']\n",
        "\n",
        "  with open('/content/drive/Shareddrives/Intelligenza Artificiale/Progetto/AmazonDatasetSeller.csv', 'a') as f:\n",
        "    writer = csv.writer(f)\n",
        "    seller = site.find(id='sellerName')\n",
        "    \n",
        "    azienda = site.find('ul', class_=\"a-unordered-list a-nostyle a-vertical\")\n",
        "    #regex per eliminare tutto prima dei \":\"\n",
        "    rx_to_last = r'^.*{}'.format(re.escape(\":\"))\n",
        "    #array che contiene tutti i dati\n",
        "    col=[]\n",
        "    col.append(product)\n",
        "    if(seller is not None):\n",
        "      col.append(seller.get_text())\n",
        "    else: return None\n",
        "    #count per aggiungere i valori nulli dalla quinta colonna\n",
        "    count=0\n",
        "    #controllo dei parametri e inserimento del valore nullo in caso di valore mancante, forse l'ultimo non serve perchè deve essere obbligatorio per legge\n",
        "    for a in azienda:\n",
        "      if count==0 and not re.search(r\"Nome azienda:\", a.get_text()):\n",
        "        col.append(\"None\")\n",
        "        count+=1\n",
        "      elif count==0 and re.search(r\"Nome azienda:\", a.get_text()):\n",
        "        myString=re.sub(r\"Nome azienda:\",\"\", a.get_text()).strip()  \n",
        "        if not myString:\n",
        "          col.append(\"None\")\n",
        "          count+=1 \n",
        "      if count==1 and not re.search(r\"Tipo di attività:\", a.get_text()):\n",
        "        col.append(\"None\")\n",
        "        count+=1\n",
        "      elif count==1 and re.search(r\"Tipo di attività:\", a.get_text()):\n",
        "        myString=re.sub(r\"Tipo di attività:\",\"\", a.get_text()).strip()   \n",
        "        if not myString:\n",
        "          col.append(\"None\")\n",
        "          count+=1 \n",
        "      if count==2 and not re.search(r\"Numero di iscrizione al registro delle imprese:\", a.get_text()):\n",
        "        col.append(\"None\")\n",
        "        count+=1\n",
        "      elif count==2 and re.search(r\"Numero di iscrizione al registro delle imprese:\", a.get_text()):\n",
        "        myString=re.sub(r\"Numero di iscrizione al registro delle imprese:\",\"\", a.get_text()).strip()   \n",
        "        if not myString:\n",
        "          col.append(\"None\")\n",
        "          count+=1 \n",
        "      if count==3 and not re.search(r\"Numero di partita IVA:\", a.get_text()):\n",
        "        col.append(\"None\")\n",
        "        count+=1\n",
        "      elif count==3 and re.search(r\"Numero di partita IVA:\", a.get_text()):\n",
        "        myString=re.sub(r\"Numero di partita IVA:\",\"\", a.get_text()).strip()   \n",
        "        if not myString:\n",
        "          col.append(\"None\")\n",
        "          count+=1 \n",
        "      if count==4 and not re.search(r\"Numero di telefono:\", a.get_text()):\n",
        "        col.append(\"None\")\n",
        "        count+=1\n",
        "      elif count==4 and re.search(r\"Numero di telefono:\", a.get_text()):\n",
        "        myString=re.sub(r\"Numero di telefono:\",\"\", a.get_text()).strip()   \n",
        "        if not myString:\n",
        "          col.append(\"None\")\n",
        "          count+=1 \n",
        "      if count==5 and not re.search(r\"Indirizzo Servizio clienti:\", a.get_text()):\n",
        "        col.append(\"None\")\n",
        "        count+=1\n",
        "      elif count==5 and re.search(r\"Indirizzo Servizio clienti:\", a.get_text()):\n",
        "        myString=re.sub(r\"Indirizzo Servizio clienti:\",\"\", a.get_text()).strip()   \n",
        "        if not myString:\n",
        "          col.append(\"None\")\n",
        "          count+=1   \n",
        "      if count==6 and not re.search(r\"Indirizzo aziendale:\", a.get_text()):\n",
        "        col.append(\"None\")\n",
        "        count+=1\n",
        "      elif count==6 and re.search(r\"Indirizzo aziendale:\", a.get_text()):\n",
        "        myString=re.sub(r\"Indirizzo aziendale:\",\"\", a.get_text()).strip()   \n",
        "        if not myString:\n",
        "          col.append(\"None\")\n",
        "          count+=1   \n",
        "      if count>=7: break\n",
        "      count+=1\n",
        "      col.append(re.sub(rx_to_last, '', a.get_text(), flags=re.DOTALL).strip())\n",
        "    #se non ci sono tutti gli attributi, riempi l'array\n",
        "    if len(col)<9:\n",
        "      for i in range(0,9-len(col)):\n",
        "        col.append(\"None\")\n",
        "    #dopo aver inserito tutti i parametri in col, inserisce tutta la tupla nel csv \n",
        "    writer.writerow(col)\n",
        "\n",
        "with open('/content/drive/Shareddrives/Intelligenza Artificiale/Progetto/AmazonDatasetSeller.csv', 'w') as f:\n",
        "    writer = csv.writer(f)\n",
        "    writer.writerow(['Prodotto','Venditore','NomeAzienda','TipoDiAttivita','NumeroDiIscrizioneAlRegistroDelleImprese','NumeroDiPartitaIVA','NumeroDiTelefono','IndirizzoServizioClienti','IndirizzoAziendale'])\n",
        "\n",
        "file = open(\"/content/drive/Shareddrives/Intelligenza Artificiale/Progetto/links.txt\", \"r\")\n",
        "\n",
        "for line in file:\n",
        "    #vai alla pagina \n",
        "    site = html_code(line)\n",
        "    #prendi il titolo del prodotto e il venditore e inserisci nei relativi array\n",
        "    azienda = site.find(id=\"sellerProfileTriggerId\")\n",
        "    \n",
        "    if(azienda is not None):\n",
        "      prodotto = site.find(id=\"productTitle\").get_text()\n",
        "      webpage=\"https://www.amazon.it\"+ azienda[\"href\"]\n",
        "      site = html_code(webpage)\n",
        "      seller_date(site,prodotto)"
      ]
    },
    {
      "cell_type": "code",
      "source": [
        "import matplotlib.pyplot as plt\n",
        "import numpy as np\n",
        "\n",
        "indice = [0,0,0,0,0,0,0,0,0]\n",
        "df = pd.read_csv(\"/content/drive/Shareddrives/Intelligenza Artificiale/Progetto/AmazonDatasetSeller.csv\")\n",
        "\n",
        "for x in range(0,len(df)):\n",
        "  if df[\"Prodotto\"][x] == \"None\": indice[0] = indice[0] + 1 \n",
        "  if df[\"Venditore\"][x] == \"None\": indice[1] = indice[1] + 1 \n",
        "  if df[\"NomeAzienda\"][x] == \"None\": indice[2] = indice[2] + 1\n",
        "  if df['TipoDiAttivita'][x] == \"None\": indice[3] = indice[3] + 1 \n",
        "  if df['NumeroDiIscrizioneAlRegistroDelleImprese'][x] == \"None\": indice[4] = indice[4] + 1 \n",
        "  if df['NumeroDiPartitaIVA'][x] == \"None\": indice[5] = indice[5] + 1 \n",
        "  if df['NumeroDiTelefono'][x] == \"None\": indice[6] = indice[6] + 1 \n",
        "  if df['IndirizzoServizioClienti'][x] == \"None\": indice[7] = indice[7] + 1 \n",
        "  if df['IndirizzoAziendale'][x] == \"None\": indice[8] = indice[8] + 1  \n",
        "\n",
        "labels = ['Prodotto','Venditore','NomeAzienda','TipoDiAttivita','IscrizioneRegistro','NumeroDiPartitaIVA','NumeroDiTelefono','IndirizzoServizioClienti','IndirizzoAziendale']\n",
        "\n",
        "x_pos = np.arange(len(labels))\n",
        "\n",
        "plt.bar(x_pos, indice, align='center')\n",
        "plt.xticks(x_pos, labels,rotation = \"vertical\")\n",
        "plt.ylabel('Numero')\n",
        "plt.xlabel('Indice')\n",
        "plt.title('Numero di tuple con valore None per indice')\n",
        "plt.savefig('/content/drive/Shareddrives/Intelligenza Artificiale/Progetto/dataSeller.png',bbox_inches = \"tight\")\n",
        "plt.show()"
      ],
      "metadata": {
        "id": "T6yxPLVrOhQy",
        "colab": {
          "base_uri": "https://localhost:8080/",
          "height": 398
        },
        "outputId": "1587f671-41b9-4d76-f4c9-42209e721523"
      },
      "execution_count": null,
      "outputs": [
        {
          "output_type": "display_data",
          "data": {
            "image/png": "[encoded data removed]",
            "text/plain": [
              "<Figure size 432x288 with 1 Axes>"
            ]
          },
          "metadata": {
            "needs_background": "light"
          }
        }
      ]
    },
    {
      "cell_type": "markdown",
      "source": [
        "# **Zero-shot**"
      ],
      "metadata": {
        "id": "FI8imnJZfWwi"
      }
    },
    {
      "cell_type": "code",
      "source": [
        "def Estrattore_parole():\n",
        "  list_comment = []\n",
        "  file = open(\"/content/drive/Shareddrives/Intelligenza Artificiale/Progetto/reviewfake.txt\")\n",
        "  for line in file:\n",
        "    soup = html_code(line)\n",
        "    for r in soup.select('span.review-text span'):\n",
        "      if r.text != \" \" and r.text != \" Impossibile caricare il contenuto multimediale. \":\n",
        "        list_comment.append(r.text)\n",
        "    \n",
        "  map = {}\n",
        "  for x in range(0,len(list_comment)):\n",
        "      parts = list_comment[x].split(\" \")\n",
        "      for i in range(0,len(parts)):\n",
        "        try: \n",
        "          map[parts[i]]\n",
        "          map[parts[i]][\"Numero\"] = map[parts[i]][\"Numero\"] + 1 \n",
        "        except:\n",
        "          map[parts[i]] = {}\n",
        "          map[parts[i]][\"Numero\"] = 1 \n",
        "\n",
        "  word = []\n",
        "  for x in map:\n",
        "    if map[x][\"Numero\"] > 3 and len(x) > 3:\n",
        "      word.append(x)\n",
        "  return word\n",
        " \n",
        "dataset = pd.read_csv('/content/drive/Shareddrives/Intelligenza Artificiale/Progetto/reviewCleaned.csv')\n",
        "word = Estrattore_parole()\n",
        "print(word)\n",
        "classifier = pipeline('zero-shot-classification')\n",
        "\n",
        "with open('/content/drive/Shareddrives/Intelligenza Artificiale/Progetto/Zero_shot_result.csv', 'w') as f:\n",
        "    writer = csv.writer(f)\n",
        "    column_name = [\"Commento\"] \n",
        "    for x in range(0,len(word)):\n",
        "      column_name.append(word[x])\n",
        "    writer.writerow(column_name)\n",
        "    \n",
        "    for x in range(0,len(dataset)):\n",
        "      print(x)\n",
        "      if dataset['Classe'][x] == 1:\n",
        "        zero_shot_result = classifier(dataset['Contenuto'][x],word)\n",
        "        zero_shot_result_word_order = [dataset['Contenuto'][x]]\n",
        "        for y in range(0,len(word)):\n",
        "          for m in range(0,len(zero_shot_result['labels'])):\n",
        "            if zero_shot_result['labels'][m] == word[y]:\n",
        "              zero_shot_result_word_order.append(zero_shot_result['scores'][m])\n",
        "        writer.writerow(zero_shot_result_word_order)\n",
        "        "
      ],
      "metadata": {
        "id": "kkb3ScruKHd9"
      },
      "execution_count": null,
      "outputs": []
    }
  ],
  "metadata": {
    "colab": {
      "collapsed_sections": [
        "rD0DSbh4UYy3",
        "SUFxjH0gf_fC",
        "MMRH9G9ZCRhF",
        "mWtmr_Ya4ApA",
        "FI8imnJZfWwi"
      ],
      "name": "Progetto Intelligenza Artificiale.ipynb",
      "provenance": []
    },
    "kernelspec": {
      "display_name": "Python 3",
      "name": "python3"
    },
    "language_info": {
      "name": "python"
    }
  },
  "nbformat": 4,
  "nbformat_minor": 0
}